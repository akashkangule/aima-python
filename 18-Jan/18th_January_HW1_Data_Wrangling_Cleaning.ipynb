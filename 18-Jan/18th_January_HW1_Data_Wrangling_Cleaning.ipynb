{
  "cells": [
    {
      "cell_type": "markdown",
      "metadata": {
        "id": "upCKAd8JB6bO"
      },
      "source": [
        "# Homework 1: Data Wrangling and Cleaning\n",
        "> | Due Midnight 18/01/2023 \n",
        "In this homework, you will familiarize yourself with Pandas 🐼! The cutest animal and one of the essential libraries for Data Science. This homework is focused on one of the most important tasks in Data Science, preparing datasets so that they can be analyzed, plotted, used for machine learning models, etc...\n",
        "\n",
        "This homework will be broken into analyzing some datasets across four sections (although section 1 has the most sub-parts)!\n",
        "\n",
        "1. Working with a historical dataset on the Olympics Games\n",
        "\n",
        "2. Working with 2020 Olympics in Tokyo and Countries Data and  a merged/joined version of the datasets (More on this later...) \n",
        "\n",
        "**Note: Before starting, you must click on the \"Copy To Drive\" option in the top bar. This is the master notebook so <u>you will not be able to save your changes without copying it </u>! Once you click on that, make sure you are working on that version of the notebook so that your work is saved** \n",
        "\n",
        "Run the following two cells to setup the notebook"
      ]
    },
    {
      "cell_type": "code",
      "execution_count": 1,
      "metadata": {
        "id": "zfJ3v4LwtGpc"
      },
      "outputs": [
        {
          "ename": "ModuleNotFoundError",
          "evalue": "No module named 'pandas'",
          "output_type": "error",
          "traceback": [
            "\u001b[1;31m---------------------------------------------------------------------------\u001b[0m",
            "\u001b[1;31mModuleNotFoundError\u001b[0m                       Traceback (most recent call last)",
            "Cell \u001b[1;32mIn[1], line 2\u001b[0m\n\u001b[0;32m      1\u001b[0m \u001b[39m# Import neccessary libraries\u001b[39;00m\n\u001b[1;32m----> 2\u001b[0m \u001b[39mimport\u001b[39;00m \u001b[39mpandas\u001b[39;00m \u001b[39mas\u001b[39;00m \u001b[39mpd\u001b[39;00m\n\u001b[0;32m      3\u001b[0m \u001b[39mimport\u001b[39;00m \u001b[39mnumpy\u001b[39;00m \u001b[39mas\u001b[39;00m \u001b[39mnp\u001b[39;00m\n\u001b[0;32m      4\u001b[0m \u001b[39mimport\u001b[39;00m \u001b[39mseaborn\u001b[39;00m \u001b[39mas\u001b[39;00m \u001b[39msns\u001b[39;00m\n",
            "\u001b[1;31mModuleNotFoundError\u001b[0m: No module named 'pandas'"
          ]
        }
      ],
      "source": [
        "%%capture\n",
        "\n",
        "# Import neccessary libraries\n",
        "import pandas as pd\n",
        "import numpy as np\n",
        "import seaborn as sns\n",
        "from string import ascii_letters\n",
        "import matplotlib.pyplot as plt\n",
        "import datetime as dt\n",
        "import requests\n",
        "from lxml import html"
      ]
    },
    {
      "cell_type": "markdown",
      "metadata": {
        "id": "2K3-m4JuNh9X"
      },
      "source": [
        "#What is Pandas?\n",
        "\n",
        "<div class = \"row\">\n",
        "<div class=\"column\">\n",
        "Apart from animals, Pandas is a Python library to aid with data manipulation/analysis. It is built with support from Numpy. Numpy is another Python package/library that provides efficient calculations for matricies and other math problems.\n",
        "</div><div class=\"column\">\n",
        "<p class=\"d-flex\" align = \"center\">\n",
        "<img src = \"https://thehill.com/sites/default/files/styles/article_full/public/panda_getty.jpg?itok=4ce_5sip\" height= \"200\" align =\"center\"/>\n",
        "<img src = \"https://cff2.earth.com/uploads/2016/09/08101343/giant-panda-bear_1big_stock1.jpg\" height= \"200\" align =\"center\"/>\n",
        "</p>\n",
        "</div>\n",
        "</div>\n",
        "\n",
        "\n"
      ]
    },
    {
      "cell_type": "code",
      "execution_count": null,
      "metadata": {
        "id": "qxt9isGeET24"
      },
      "outputs": [],
      "source": [
        "# TODO: In this cell, put which panda activity you prefer in lowercase(eating or sleeping)\n",
        "# Input activity name in all lowercase\n",
        "favorite_activity = \"\""
      ]
    },
    {
      "cell_type": "markdown",
      "metadata": {
        "id": "L5Ay_hRPgLDV"
      },
      "source": [
        "#Datasets\n",
        "\n",
        "We can't be data scientists without data! We provided code for you to download the data (the \"wget\" cell from earlier). If you go to the view on the left and click files, you should see something similar to this image --\n",
        "\n",
        "![filesimage](https://drive.google.com/uc?id=1jJrEQz5nsPtTf8J1VNXDl9ewzHqkrc-T)"
      ]
    },
    {
      "cell_type": "markdown",
      "metadata": {
        "id": "bt_SIy9kUbAC"
      },
      "source": [
        "#Part 1: Working with Olympics History Data\n",
        "\n",
        "You undoubtedly know that the Olympic Games were held this past summer.  But how do they relate to past Olympics games?\n",
        "\n",
        "In this part of the homework we will be working with a dataset focused on the Olympics! \n",
        "\n",
        "We are using an adapted version of the  120 years of Olympic History dataset from [Kaggle](https://www.kaggle.com/heesoo37/120-years-of-olympic-history-athletes-and-results). This dataset contains information about athletes and the medals  they won(if any) in the different sports that they participated in (from 2000 to 2016). \n",
        "\n",
        "\n",
        "Let's first load our dataset into a Pandas Dataframe. Use pandas <code>read_csv</code> functionality, which you can find documentation for here:\n",
        "\n",
        "https://pandas.pydata.org/pandas-docs/stable/reference/api/pandas.read_csv.html\n",
        "\n",
        "While reading documentation is hard at first, we **strongly encourage you** to get into a good habit of it, since many times your questions will be answered directly by the documentation (ex: \"why isn't my dataframe dropping duplicates\" or \"why didn't this dataframe update\").\n",
        "\n",
        "#### **TODO**\n",
        "- Save the Olympics dataframe to a variable named: <code>olympics_history_df</code>\n"
      ]
    },
    {
      "cell_type": "code",
      "execution_count": null,
      "metadata": {
        "id": "kw23V43r56HR"
      },
      "outputs": [],
      "source": [
        "# TODO: Import the Olympics_history file to a pandas dataframe -- make sure the dataframe is named correctly! \n"
      ]
    },
    {
      "cell_type": "markdown",
      "metadata": {
        "id": "l6Jhb8PBNuf5"
      },
      "source": [
        "Let's focus on the `olympics_history_df` for now and see what the dataframe looks like. Display the first 10 rows of the dataframe in the cell below (take a look at the documentation to find now to do this!)"
      ]
    },
    {
      "cell_type": "code",
      "execution_count": null,
      "metadata": {
        "id": "HL0SyrGjaENp"
      },
      "outputs": [],
      "source": [
        "# TODO: Display the first 10 rows of `olympics_history_df`\n"
      ]
    },
    {
      "cell_type": "markdown",
      "metadata": {
        "id": "8fVyS1_3Qkpd"
      },
      "source": [
        "Another thing that is often times helpful to do is inspect the types of each column in a dataframe. Output the types of `olympics_history_df` in this cell below. "
      ]
    },
    {
      "cell_type": "code",
      "execution_count": null,
      "metadata": {
        "id": "VLeID5-MaCJX"
      },
      "outputs": [],
      "source": [
        "# TODO: Display the datatypes in `olympics_history_df`\n"
      ]
    },
    {
      "cell_type": "markdown",
      "metadata": {
        "id": "TbfN6lLBSrb_"
      },
      "source": [
        "Save the types of the ID, Name, Weight, and City columns to a series and pass them into the autograder cell below. Name the variable that you save to olympics_history_df_types"
      ]
    },
    {
      "cell_type": "code",
      "execution_count": null,
      "metadata": {
        "id": "eaqR1EPeSMPU"
      },
      "outputs": [],
      "source": [
        "# TODO: Just a warmup to get exposed to indexing and series vs. dataframe\n"
      ]
    },
    {
      "cell_type": "code",
      "execution_count": null,
      "metadata": {
        "id": "TXWHLnK7Z9XO"
      },
      "outputs": [],
      "source": [
        "# View the output here!\n",
        "olympics_history_df_types"
      ]
    },
    {
      "cell_type": "markdown",
      "metadata": {
        "id": "zyhHFYOFYl9L"
      },
      "source": [
        "*Pass* olympics_history_df_types into the \"answer\" parameter below (4 points)"
      ]
    },
    {
      "cell_type": "code",
      "execution_count": null,
      "metadata": {
        "id": "LBiGWf2kZ_E7"
      },
      "outputs": [],
      "source": [
        "# TEST CASE: check olympics_history_df_types (4 pts)\n",
        "# answer = olympics_history_df_types\n",
        "grader.grade(test_case_id =\"olympics_history_df_types\" , answer = olympics_history_df_types)"
      ]
    },
    {
      "cell_type": "markdown",
      "metadata": {
        "id": "FTsd4gbgXZoD"
      },
      "source": [
        "##1.1 Dropping data\n",
        "\n",
        "When you work with data, you'll have NaNs, duplicates or columns that don't give much insight into the data. There are different ways to deal with missing values (i.e. imputation, which you can read about on your own, and we'll cover later in the semester), but for now, let's drop some of these rows to clean up our data. Note that there might be multiple ways to do each step.\n",
        "\n",
        "\n",
        "Refer to the documentation if you get stuck -- it's your best friend!\n",
        "\n",
        "<br>\n",
        "\n",
        "#### **TODO: 1.1**\n",
        "\n",
        "- Drop the rows where `Medal` is NaN\n",
        "- Save the result to `olympics_history_medals_df` (4 points)\n",
        "\n",
        "Using `olympics_history_medals_df`,\n",
        "- Drop duplicate rows\n",
        "- Drop rows that have nulls (e.g. NaN) in them\n",
        "- Drop the \"City\" and \"Team\" columns. These columns aren't neccessary for the rest of the homework.\n",
        "- Save the result to `olympics_history_df_cleaned` (4 points)"
      ]
    },
    {
      "cell_type": "code",
      "execution_count": null,
      "metadata": {
        "id": "2BwZqVc58Ejy"
      },
      "outputs": [],
      "source": [
        "#  TODO:drop rows where athletes did not win medals\n"
      ]
    },
    {
      "cell_type": "code",
      "execution_count": null,
      "metadata": {
        "id": "ZRf3HFBeDAnI"
      },
      "outputs": [],
      "source": [
        "# TEST CASE: check olympics_history_medals_df (4 pts)\n",
        "grader.grade(test_case_id = \"olympics_history_medals_df\" , answer = olympics_history_medals_df)"
      ]
    },
    {
      "cell_type": "code",
      "execution_count": null,
      "metadata": {
        "id": "snLmudotL_hf"
      },
      "outputs": [],
      "source": [
        "# TODO: Drop duplicate rows\n"
      ]
    },
    {
      "cell_type": "code",
      "execution_count": null,
      "metadata": {
        "id": "7n0uC--Ld-du"
      },
      "outputs": [],
      "source": [
        "# TODO: Drop rows that have any nulls (NaN) in them\n"
      ]
    },
    {
      "cell_type": "code",
      "execution_count": null,
      "metadata": {
        "id": "i36_WcGYeJqW"
      },
      "outputs": [],
      "source": [
        "# TODO: Drop the  City and Team columns \n"
      ]
    },
    {
      "cell_type": "markdown",
      "metadata": {
        "id": "2GwTkUYXY4sO"
      },
      "source": [
        "View your dataframe again to check if you dropped the columns and the appropriate rows properly:"
      ]
    },
    {
      "cell_type": "code",
      "execution_count": null,
      "metadata": {
        "id": "zQkyKhv7XlSa"
      },
      "outputs": [],
      "source": [
        "olympics_history_df_cleaned"
      ]
    },
    {
      "cell_type": "markdown",
      "metadata": {
        "id": "dIlJxXVigr18"
      },
      "source": [
        "Pass the cleaned Olympics history dataframe to the following cell as the input for the \"answer\" parameter (4 points)"
      ]
    },
    {
      "cell_type": "markdown",
      "metadata": {
        "id": "q_WZug_nd_vu"
      },
      "source": [
        "##1.2 Data Wrangling \n",
        "\n",
        "Now, let's process the data in an appropriate format so that we can answer some queries more easily. Make sure to use `olympics_history_df_cleaned` from now onwards.\n",
        "\n",
        "**TODO: 1.2**\n",
        "\n",
        "*   Change the type of 'Age' column to float \n",
        "*   Split the 'Games' column into 2 columns:  Year and Season (Winter or Summer)\n",
        "*   Make sure that only the first letter for `Season` is capitalized (Winter, Summer). We want to make all the entries consistent, you will notice that some rows have \"WINTER\" while others have \"Winter\".\n",
        "*   Convert Year to type int\n",
        "*   Drop the Games column\n",
        "\n",
        "See `astype` in Pandas documentation for the type conversion."
      ]
    },
    {
      "cell_type": "code",
      "execution_count": null,
      "metadata": {
        "id": "cFspTGCMf8_a"
      },
      "outputs": [],
      "source": [
        "##  TODO: convert column Age to float\n"
      ]
    },
    {
      "cell_type": "code",
      "execution_count": null,
      "metadata": {
        "id": "hoekYL2vgDLs"
      },
      "outputs": [],
      "source": [
        "##  TODO: look at the datatypes to confirm\n"
      ]
    },
    {
      "cell_type": "code",
      "execution_count": null,
      "metadata": {
        "id": "mbrDeVORfGYC"
      },
      "outputs": [],
      "source": [
        "\n",
        "##  TODO: Split the 'Games' column + others mentioned above\n"
      ]
    },
    {
      "cell_type": "code",
      "execution_count": null,
      "metadata": {
        "id": "1DbfyJO2XE1Y"
      },
      "outputs": [],
      "source": [
        "olympics_history_df_cleaned"
      ]
    },
    {
      "cell_type": "markdown",
      "metadata": {
        "id": "D-6pdMTJQhRE"
      },
      "source": [
        "##1.3 What is the average age of players who won medals?\n",
        "\n",
        "Now that we pre-processed our data, let's start with a query.\n",
        "\n",
        "#### 1.3 We will compute the average age of players who won gold, silver and bronze medals for each sport.\n",
        "\n",
        "**TODO: 1.3**\n",
        "\n",
        "\n",
        "*   See the `groupby()` function \n",
        "*   The average age for Gold, Silver and Bronze must be to 1 decimal place. See the `round()` function\n",
        "*   Make sure that your answer has a single row for each sport and a column with the average age for each medal. (bronze_age, silver_age, gold_age)\n",
        "*   Save the result to `avg_medal_age_df` (5 points)"
      ]
    },
    {
      "cell_type": "code",
      "execution_count": null,
      "metadata": {
        "id": "nUjP3ZRhT-TN"
      },
      "outputs": [],
      "source": [
        "## TODO 1.3\n"
      ]
    },
    {
      "cell_type": "markdown",
      "metadata": {
        "id": "l8MfujvhX2Sw"
      },
      "source": [
        "##1.4 Which countries have the highest gold medal count in 2016? \n",
        "Here we will calculate the number of gold medals won by each country in 2016\n",
        "\n",
        "**TODO: 1.4**\n",
        "\n",
        "\n",
        "*   Get the rows where athletes won gold medals in 2016\n",
        "*   Count the number of medals for each country. Hint: see the `groupby` function \n",
        "*   Make sure that you name the count column as \"Gold_count\"\n",
        "*   Sort the entries in decreasing order of medals. \n",
        "*   Save the first 10 rows in the dataframe `olympics_16_gold`\n",
        "*  Make a plot of this data using the matplotlib package \n",
        "\n"
      ]
    },
    {
      "cell_type": "code",
      "execution_count": null,
      "metadata": {
        "id": "-OByoJwSX6rI"
      },
      "outputs": [],
      "source": [
        "## TO DO 1.4"
      ]
    },
    {
      "cell_type": "markdown",
      "metadata": {
        "id": "Zl5fudwUMOtm"
      },
      "source": [
        "Plot a bar plot of the 10 countries with the highest gold medal count in 2016. We will be manually grading this, and we understand there will be a lot of differences between individual plots -- so don't worry too much about this. (4 points)\n",
        "\n",
        "<br>\n",
        "\n",
        "We're going to be making sure your plots are correct and reasonable; small things like axes labels and colors we'd invite you to do if you want to make your plot better and more useful to an end-user. We likely won't be answering questions about the specifics here as a result!"
      ]
    },
    {
      "cell_type": "code",
      "execution_count": null,
      "metadata": {
        "id": "U1riKrgNMOGR"
      },
      "outputs": [],
      "source": [
        "#  TODO: Create a plot using matplotlib. - 4 points. \n",
        "# You may also use other libraries like plotly or seaborn if you like, but we can't guarantee the same level of help for these other libraries"
      ]
    },
    {
      "cell_type": "markdown",
      "metadata": {
        "id": "NoF4LKyCd34x"
      },
      "source": [
        "##1.5 Looking at Country data\n",
        "\n",
        "Now let's bring in our dataset about countries. \n",
        "\n",
        "Just like our `olympics_history_df`, we need to clean and prepare our country data (more data wrangling!). First,visualize the `country_df` below to take a look at it. \n",
        "\n",
        "\n"
      ]
    },
    {
      "cell_type": "code",
      "execution_count": null,
      "metadata": {
        "id": "Zz1JtbNWOMxq"
      },
      "outputs": [],
      "source": [
        "## TO DO: Take a look at country_df (the rows, the data types of columns) and import it\n"
      ]
    },
    {
      "cell_type": "code",
      "execution_count": null,
      "metadata": {
        "id": "ZUdMeFavO33c"
      },
      "outputs": [],
      "source": [
        "countries_df"
      ]
    },
    {
      "cell_type": "markdown",
      "metadata": {
        "id": "c2AqU7DuXt0T"
      },
      "source": [
        "\n",
        "\n",
        "\n",
        "\n",
        "#### **TODO: 1.5.1**\n",
        "- For each row, calculate the number of NaNs(`total_null`) and the name of the first column with NaN (`first_null`)."
      ]
    },
    {
      "cell_type": "markdown",
      "metadata": {
        "id": "e-4e-Ffv_1ro"
      },
      "source": [
        "Before we clean this dataframe,  we want to get an idea for the extent of the null values in the dataframe. For each row in countries_df, we want to know the **total number of NaNs and the column which contains first null value.**\n",
        "\n",
        "Create a dataframe named `row_null` that has the answer to this question. You may find that functions like `sum()` and `idxmax()` might be helpful -- we'd recommend looking at the documentation to think about how to use these before asking on Piazza!"
      ]
    },
    {
      "cell_type": "code",
      "execution_count": null,
      "metadata": {
        "id": "2BDSvuf8_1KP"
      },
      "outputs": [],
      "source": [
        "# TODO: Create a dataframe named row_null with columns first_null and total_null. \n",
        "# first_null is the first column of the row with a null, if no nulls in the row, set it to NaN. total_null is the number of nulls in a row.\n"
      ]
    },
    {
      "cell_type": "markdown",
      "metadata": {
        "id": "hP-2FDxgjlG3"
      },
      "source": [
        "#### **TODO: 1.5.2**\n",
        "\n",
        "\n",
        "\n",
        "*   Drop the following columns from countries_df: \n",
        "  \n",
        "  Unemployment, Labour force participation ,Population growth rate ,Refugees and others of concern to UNHCR , Seats held by women in national parliaments\n"
      ]
    },
    {
      "cell_type": "code",
      "execution_count": null,
      "metadata": {
        "id": "KfUsu8Lbm_mu"
      },
      "outputs": [],
      "source": [
        "## TO DO: 1.5.2 drop columns\n"
      ]
    },
    {
      "cell_type": "code",
      "execution_count": null,
      "metadata": {
        "id": "OSTllJwQPthi"
      },
      "outputs": [],
      "source": [
        "countries_df"
      ]
    },
    {
      "cell_type": "markdown",
      "metadata": {
        "id": "uQ87qXrfguHS"
      },
      "source": [
        "#Part 2: Combining the data\n",
        "\n",
        "When you become a full time data scientist, a lot of times, data will be spread out across multiple files/tables. The way to combine these tables is through join/merge operations. If you're familiar with SQL, this will be very familiar to you. If not, don't worry. I believe in you!\n",
        "\n",
        "To start, here's a nice diagram which shows you the different types of joins\n",
        "\n",
        "\n",
        "<p align = \"center\">\n",
        "<img src = \"https://i.stack.imgur.com/hMKKt.jpg\" width= \"600\" align =\"center\"/>\n",
        "</p>\n",
        "\n",
        "A clarifying point: The two venn diagrams with the \"(if Null)\" are also called Left Outer Join and Right Outer Join"
      ]
    },
    {
      "cell_type": "markdown",
      "metadata": {
        "id": "nri-rVd2-kgL"
      },
      "source": [
        "## Section 1: Working with Olympic Games Tokyo 2020 data\n",
        "\n",
        "Now that we have looked at data cleaning and basic queries that we can do with pandas using History of Olympics data, let's take a look at how we can get insights by combining multiple datasets!\n",
        "\n",
        "In the past summer, from July 23 to August 8, Olympic Games was held in Tokyo. \n",
        "We have 4 .csv files that covers different parts of the Tokyo Olympics datasets: athletes, coaches, medals and teams. We have UN country datasets as well. \n",
        "\n",
        "\n",
        "---\n",
        "\n",
        "\n",
        "\n",
        "Let's first get both of our datasets loaded into Pandas Dataframes, one for each of the datasets. Use pandas' <code>read_csv</code> functionality, which you can find documentation for here:\n",
        "\n",
        "https://pandas.pydata.org/pandas-docs/stable/reference/api/pandas.read_csv.html\n",
        "\n",
        "While reading documentation is hard at first, we **strongly encourage you** to get into a good habit of it, since many times your questions will be answered directly by the documentation (ex: \"why isn't my dataframe dropping duplicates\" or \"why didn't this dataframe update\").\n",
        "\n",
        "#### **TODO: Load Files**\n",
        "- Save the athletes dataframe to a variable named: <code>athletes_df</code>\n",
        "- Save the coaches dataframe to a variable named: <code>coaches_df</code>\n",
        "- Save the medals dataframe to a variable named: <code>medals_df</code> (2 point)"
      ]
    },
    {
      "cell_type": "code",
      "execution_count": null,
      "metadata": {
        "id": "ZF6553jFAluV"
      },
      "outputs": [],
      "source": [
        "# TODO: Import your files to pandas dataframes -- make sure the dataframes are named correctly!\n"
      ]
    },
    {
      "cell_type": "markdown",
      "metadata": {
        "id": "pld6FONtge_g"
      },
      "source": [
        "### 2.1.1 National Sports Team\n",
        "\n",
        "Queries: Let's take a look at the coaches and athletes of each \"national sports team\". The German Athletics team would be an example of a \"national sports team\". "
      ]
    },
    {
      "cell_type": "markdown",
      "metadata": {
        "id": "-zbfvY1fiDGf"
      },
      "source": [
        "Step 1: Create a DataFrame named athletes_ct with three columns: NOC, Discipline, Athlete_Counts\n"
      ]
    },
    {
      "cell_type": "code",
      "execution_count": null,
      "metadata": {
        "id": "qwHcMXI2kUo6"
      },
      "outputs": [],
      "source": [
        "# TODO: Step 1: You should have a DataFrame named athletes_ct with three columns: NOC, Discipline, Athlete_counts\n"
      ]
    },
    {
      "cell_type": "markdown",
      "metadata": {
        "id": "boeBNh1xiG__"
      },
      "source": [
        "Step 2: Create a DataFrame named coaches_ct with three columns: NOC, Discipline, Coach_counts\n"
      ]
    },
    {
      "cell_type": "code",
      "execution_count": null,
      "metadata": {
        "id": "eLxD2sjXpIOS"
      },
      "outputs": [],
      "source": [
        "# TODO: Step 2: You should have a DataFrame named coaches_ct with three columns: NOC, Discpline, Coach_counts\n",
        "# Assume the coaches for either 'Event' are on the same national team\n",
        "\n"
      ]
    },
    {
      "cell_type": "markdown",
      "metadata": {
        "id": "CS7Pv08AiNiT"
      },
      "source": [
        "Step 3: (Inner) Join the two DataFrames on each national team and discipline. Save the joined dataframe as `teams_df`, and calculate the coach to athlete ratio (save as a 'coach_to_athlete_ratio' column). "
      ]
    },
    {
      "cell_type": "code",
      "execution_count": null,
      "metadata": {
        "id": "9qzhCxd9qOkp"
      },
      "outputs": [],
      "source": [
        "# TODO: Step 3 \n"
      ]
    },
    {
      "cell_type": "code",
      "execution_count": null,
      "metadata": {
        "id": "NffHnxLG2O_m"
      },
      "outputs": [],
      "source": [
        "teams_df"
      ]
    },
    {
      "cell_type": "markdown",
      "metadata": {
        "id": "jecjtEUfidcw"
      },
      "source": [
        "Step 4: What are the top 10 national teams that have 'ball' in their Disciplines with the highest coach to athlete ratios?\n",
        "\n",
        "* Extract the top 10 rows following the above criteria from `teams_df` to `highest_coach_to_athlete_10_df`\n",
        "* Hint: look at `nlargest()`"
      ]
    },
    {
      "cell_type": "code",
      "execution_count": null,
      "metadata": {
        "id": "48xfiQ1g4fKM"
      },
      "outputs": [],
      "source": [
        "# TODO: Extract the top 10 rows following the above criteria from teams_df to highest_coach_to_athlete_10_df\n"
      ]
    },
    {
      "cell_type": "markdown",
      "metadata": {
        "id": "4S5ld9N3u7Lr"
      },
      "source": [
        "### 2.1.2 Medals Count Board\n",
        "\n",
        "Step 0. Take a look at the medals DataFrame"
      ]
    },
    {
      "cell_type": "code",
      "execution_count": null,
      "metadata": {
        "colab": {
          "base_uri": "https://localhost:8080/",
          "height": 357
        },
        "id": "5kvah15BlX-p",
        "outputId": "35fddab0-e602-43e0-c6c7-75e75bb37761"
      },
      "outputs": [
        {
          "data": {
            "text/html": [
              "<div>\n",
              "<style scoped>\n",
              "    .dataframe tbody tr th:only-of-type {\n",
              "        vertical-align: middle;\n",
              "    }\n",
              "\n",
              "    .dataframe tbody tr th {\n",
              "        vertical-align: top;\n",
              "    }\n",
              "\n",
              "    .dataframe thead th {\n",
              "        text-align: right;\n",
              "    }\n",
              "</style>\n",
              "<table border=\"1\" class=\"dataframe\">\n",
              "  <thead>\n",
              "    <tr style=\"text-align: right;\">\n",
              "      <th></th>\n",
              "      <th>Team/NOC</th>\n",
              "      <th>Gold</th>\n",
              "      <th>Silver</th>\n",
              "      <th>Bronze</th>\n",
              "    </tr>\n",
              "  </thead>\n",
              "  <tbody>\n",
              "    <tr>\n",
              "      <th>0</th>\n",
              "      <td>United States of America</td>\n",
              "      <td>39</td>\n",
              "      <td>41</td>\n",
              "      <td>33</td>\n",
              "    </tr>\n",
              "    <tr>\n",
              "      <th>1</th>\n",
              "      <td>People's Republic of China</td>\n",
              "      <td>38</td>\n",
              "      <td>32</td>\n",
              "      <td>18</td>\n",
              "    </tr>\n",
              "    <tr>\n",
              "      <th>2</th>\n",
              "      <td>Japan</td>\n",
              "      <td>27</td>\n",
              "      <td>14</td>\n",
              "      <td>17</td>\n",
              "    </tr>\n",
              "    <tr>\n",
              "      <th>3</th>\n",
              "      <td>Great Britain</td>\n",
              "      <td>22</td>\n",
              "      <td>21</td>\n",
              "      <td>22</td>\n",
              "    </tr>\n",
              "    <tr>\n",
              "      <th>4</th>\n",
              "      <td>ROC</td>\n",
              "      <td>20</td>\n",
              "      <td>28</td>\n",
              "      <td>23</td>\n",
              "    </tr>\n",
              "    <tr>\n",
              "      <th>5</th>\n",
              "      <td>Australia</td>\n",
              "      <td>17</td>\n",
              "      <td>7</td>\n",
              "      <td>22</td>\n",
              "    </tr>\n",
              "    <tr>\n",
              "      <th>6</th>\n",
              "      <td>Netherlands</td>\n",
              "      <td>10</td>\n",
              "      <td>12</td>\n",
              "      <td>14</td>\n",
              "    </tr>\n",
              "    <tr>\n",
              "      <th>7</th>\n",
              "      <td>France</td>\n",
              "      <td>10</td>\n",
              "      <td>12</td>\n",
              "      <td>11</td>\n",
              "    </tr>\n",
              "    <tr>\n",
              "      <th>8</th>\n",
              "      <td>Germany</td>\n",
              "      <td>10</td>\n",
              "      <td>11</td>\n",
              "      <td>16</td>\n",
              "    </tr>\n",
              "    <tr>\n",
              "      <th>9</th>\n",
              "      <td>Italy</td>\n",
              "      <td>10</td>\n",
              "      <td>10</td>\n",
              "      <td>20</td>\n",
              "    </tr>\n",
              "  </tbody>\n",
              "</table>\n",
              "</div>"
            ],
            "text/plain": [
              "                     Team/NOC  Gold  Silver  Bronze\n",
              "0    United States of America    39      41      33\n",
              "1  People's Republic of China    38      32      18\n",
              "2                       Japan    27      14      17\n",
              "3               Great Britain    22      21      22\n",
              "4                         ROC    20      28      23\n",
              "5                   Australia    17       7      22\n",
              "6                 Netherlands    10      12      14\n",
              "7                      France    10      12      11\n",
              "8                     Germany    10      11      16\n",
              "9                       Italy    10      10      20"
            ]
          },
          "execution_count": 148,
          "metadata": {},
          "output_type": "execute_result"
        }
      ],
      "source": [
        "medals_df.head(10)"
      ]
    },
    {
      "cell_type": "markdown",
      "metadata": {
        "id": "Ahf8lUZulU8n"
      },
      "source": [
        "Step 1. Find the total (gold, silver, and bronze) medals count and save the result as a 'Total' column"
      ]
    },
    {
      "cell_type": "code",
      "execution_count": null,
      "metadata": {
        "id": "z4WMaOjXlhq4"
      },
      "outputs": [],
      "source": []
    },
    {
      "cell_type": "markdown",
      "metadata": {
        "id": "IIzLOxT9kySD"
      },
      "source": [
        "Step 2. Create a new column 'Rank by Total' that has the rank number for each Team/NOC, based on total medals count"
      ]
    },
    {
      "cell_type": "code",
      "execution_count": null,
      "metadata": {
        "id": "Q3Utn-0kkW6F"
      },
      "outputs": [],
      "source": []
    },
    {
      "cell_type": "markdown",
      "metadata": {
        "id": "Puo9C0nYjbbn"
      },
      "source": [
        "Step 3. Sort the rows based on the following criteria for tiebreakers: Gold > Silver > Bronze > alphabetically on Team/NOC. Create a new column 'Rank' with the rank number according the the criteria. Hint: `sort_values`"
      ]
    },
    {
      "cell_type": "code",
      "execution_count": null,
      "metadata": {
        "id": "ycdMVi_FmLJw"
      },
      "outputs": [],
      "source": []
    },
    {
      "cell_type": "markdown",
      "metadata": {
        "id": "Mm9M_vRFk397"
      },
      "source": [
        "## Section 2: Working with UN countries data\n",
        "In this part we do some basic data cleaning/wrangling and calculation on the UN countries data. "
      ]
    },
    {
      "cell_type": "markdown",
      "metadata": {
        "id": "MzoFThTMtwZr"
      },
      "source": [
        "Let's do some column-wise calculations and rankings\n",
        "\n",
        "### 2.2.1 Population and surface area\n",
        "\n",
        "Step 1. Set '~0' in the Surface area column to NaN, then drop all rows that is a null in the Surface area column. Convert the Surface area column to 'float'. Calculate density of population for each country and save the result as another column \"population density\".\n"
      ]
    },
    {
      "cell_type": "code",
      "execution_count": null,
      "metadata": {
        "id": "RDADePn3uyBL"
      },
      "outputs": [],
      "source": [
        "# population density\n"
      ]
    },
    {
      "cell_type": "markdown",
      "metadata": {
        "id": "16PyQ2ZVnDCt"
      },
      "source": [
        "Step 2. What are the top 10 crowded countries? Save them as list variable named \"most_crowded_countries\" "
      ]
    },
    {
      "cell_type": "code",
      "execution_count": null,
      "metadata": {
        "id": "zxxfLf9n-6Q_"
      },
      "outputs": [],
      "source": [
        "# top 10 crowded countries\n"
      ]
    },
    {
      "cell_type": "markdown",
      "metadata": {
        "id": "rtedo_NunEKX"
      },
      "source": [
        "Step 3. What are the top 10 least crowded countries? "
      ]
    },
    {
      "cell_type": "code",
      "execution_count": null,
      "metadata": {
        "id": "rqXfJrKW--fk"
      },
      "outputs": [],
      "source": [
        "# top 10 least crowded countries\n"
      ]
    },
    {
      "cell_type": "markdown",
      "metadata": {
        "id": "607j0j6anE9L"
      },
      "source": [
        "Step 4. Rank the regions based on decreasing average population density "
      ]
    },
    {
      "cell_type": "code",
      "execution_count": null,
      "metadata": {
        "id": "M6VR2RI9_s6-"
      },
      "outputs": [],
      "source": [
        "# average population density\n",
        "# a dataframe with column 'Region', 'avg_population_density', 'rank'\n"
      ]
    },
    {
      "cell_type": "markdown",
      "metadata": {
        "id": "3QnjSu_injnd"
      },
      "source": [
        "### 2.2.2: GDP\n",
        "\n",
        "1. Using the UN countries \"GDP: Gross domestic product (million current US$)\" and \"Population in thousands (2017)\" columns\n",
        "\n",
        "2. Calculate GDP per capita, save as a 'GDP_per_capita' column, make sure that the unit is right!"
      ]
    },
    {
      "cell_type": "code",
      "execution_count": null,
      "metadata": {
        "id": "qgYJatxRnZ16"
      },
      "outputs": [],
      "source": []
    },
    {
      "cell_type": "markdown",
      "metadata": {
        "id": "QUDavF_zg5mG"
      },
      "source": [
        "## Section 3: Merging Olympics in Tokyo dataset and UN Countries datasets"
      ]
    },
    {
      "cell_type": "markdown",
      "metadata": {
        "id": "tHyp2SZku0Gt"
      },
      "source": [
        "Queries: Medals count per capita?\n",
        "\n",
        "Step 1. Make sure the country name in your medals_df and countries_df are in the same naming convention\n"
      ]
    },
    {
      "cell_type": "code",
      "execution_count": null,
      "metadata": {
        "id": "jF6vVThHgwa8"
      },
      "outputs": [],
      "source": [
        "medals_df['Team/NOC']"
      ]
    },
    {
      "cell_type": "code",
      "execution_count": null,
      "metadata": {
        "id": "MFs2gZaGpMcI"
      },
      "outputs": [],
      "source": [
        "countries_df['country']"
      ]
    },
    {
      "cell_type": "markdown",
      "metadata": {
        "id": "VRQNnktcnq1S"
      },
      "source": [
        "2. Left join `medals_df` (left) and `countries_df` (right) into `medals_countries_df`, and calculate total medals count per 1000 capita - Out of a thousand citizens, how many medals are won?\n"
      ]
    },
    {
      "cell_type": "code",
      "execution_count": null,
      "metadata": {
        "id": "VnFd1fuPpWmz"
      },
      "outputs": [],
      "source": [
        "# Create a column in medal_df named `medals_per_1000_capita`. Your medals_df should have the same number of rows. If there isn't a match in countries_df, put NaN in the cell. \n"
      ]
    },
    {
      "cell_type": "markdown",
      "metadata": {
        "id": "wXAslqnzDfpE"
      },
      "source": [
        "# Part 3\n",
        "\n",
        "Let's now look at the dataframe that you just merged from the Part 2, section 3.\n",
        "\n",
        "\n"
      ]
    },
    {
      "cell_type": "markdown",
      "metadata": {
        "id": "LNAeU-oabPqx"
      },
      "source": [
        "##3.1 Correlation Matrix\n",
        "\n",
        "We want to see if there is any correlation between the GDP per capita of countries and the number of medals won, and **if there is a correlation, how strong is it?**\n",
        "\n",
        "\n",
        "#### **TODO: 3.1**\n",
        "\n",
        "\n",
        "- Generate the correlation matrix.  *Hint*: Read about Pandas \"corr()\" function.\n",
        "\n",
        "- Name your final answer correlation matrix dataframe to: `correlation_matrix` (5 points)\n",
        "\n",
        "- Plot a correlation matrix -- just to get a sense of what it might look like!\n"
      ]
    },
    {
      "cell_type": "code",
      "execution_count": null,
      "metadata": {
        "id": "NpMeTCw3IX52"
      },
      "outputs": [],
      "source": [
        "# TODO: Create your correlation matrix\n"
      ]
    },
    {
      "cell_type": "markdown",
      "metadata": {
        "id": "egr36TSzoi5s"
      },
      "source": [
        "Submit the correlation matrix to the autograder \n",
        "(5 points)"
      ]
    },
    {
      "cell_type": "markdown",
      "metadata": {
        "id": "gWRRlGRnetav"
      },
      "source": [
        "Here we provide code for you to visualize the correlation matrix. In the following code snippet below, please assign your correlation matrix to the variable named \"corr\" and then run the cell. You should see a correlation matrix!"
      ]
    },
    {
      "cell_type": "code",
      "execution_count": null,
      "metadata": {
        "id": "xI15Ztk9IlSY"
      },
      "outputs": [],
      "source": [
        "sns.set(style = \"white\")\n",
        "\n",
        "# Generate a large random dataset\n",
        "rs = np.random.RandomState(33)\n",
        "d = pd.DataFrame(data=rs.normal(size=(100, 26)),\n",
        "                 columns=list(ascii_letters[26:]))\n",
        "\n",
        "# Compute the correlation matrix\n",
        "# ASSIGN THE \"corr\" VARIABLE TO YOUR CORRELATION MATRIX\n",
        "corr = correlation_matrix\n",
        "\n",
        "# Generate a mask for the upper triangle\n",
        "mask = np.zeros_like(corr, dtype=np.bool)\n",
        "mask[np.triu_indices_from(mask)] = True\n",
        "\n",
        "# Set up the matplotlib figure\n",
        "f, ax = plt.subplots(figsize=(11, 9))\n",
        "\n",
        "# Generate a custom diverging colormap\n",
        "cmap = sns.diverging_palette(220, 10, as_cmap=True)\n",
        "\n",
        "# Draw the heatmap with the mask and correct aspect ratio\n",
        "sns.heatmap(corr, mask=mask, cmap=cmap, vmax=.3, center=0,\n",
        "            square=True, linewidths=.5, cbar_kws={\"shrink\": .5})\n",
        "plt.title(\"Correlation Heatmap: Olympics Medals & Countries Data\")\n",
        "plt.show()"
      ]
    }
  ],
  "metadata": {
    "colab": {
      "provenance": []
    },
    "kernelspec": {
      "display_name": "Python 3",
      "language": "python",
      "name": "python3"
    },
    "language_info": {
      "codemirror_mode": {
        "name": "ipython",
        "version": 3
      },
      "file_extension": ".py",
      "mimetype": "text/x-python",
      "name": "python",
      "nbconvert_exporter": "python",
      "pygments_lexer": "ipython3",
      "version": "3.11.2"
    },
    "vscode": {
      "interpreter": {
        "hash": "79cd9b0ff84599eb17a401e0ed1a02d2a3a55c2161f7dffcd851851d75dc298e"
      }
    }
  },
  "nbformat": 4,
  "nbformat_minor": 0
}
